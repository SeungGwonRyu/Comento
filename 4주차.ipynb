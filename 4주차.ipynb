{
 "cells": [
  {
   "cell_type": "code",
   "execution_count": 9,
   "metadata": {},
   "outputs": [],
   "source": [
    "# 1. Inner Join과 Outer Join에 대해서 조사하고 이를 비교해봅시다."
   ]
  },
  {
   "cell_type": "code",
   "execution_count": 10,
   "metadata": {},
   "outputs": [
    {
     "data": {
      "text/plain": [
       "'\\nInner Join과 Outer Join은 데이터베이스에서 둘 이상의 테이블을 연결하여 데이터를 가져오는 데\\n사용되는 SQL(Structured Query Language)의 Join 연산자입니다. 이들은 주로 관계형 데이터베이스에서 사용되며,\\n서로 다른 테이블 사이의 관계를 활용하여 원하는 정보를 얻는 데 유용합니다.\\n'"
      ]
     },
     "execution_count": 10,
     "metadata": {},
     "output_type": "execute_result"
    }
   ],
   "source": [
    "'''\n",
    "Inner Join과 Outer Join은 데이터베이스에서 둘 이상의 테이블을 연결하여 데이터를 가져오는 데\n",
    "사용되는 SQL(Structured Query Language)의 Join 연산자입니다. 이들은 주로 관계형 데이터베이스에서 사용되며,\n",
    "서로 다른 테이블 사이의 관계를 활용하여 원하는 정보를 얻는 데 유용합니다.\n",
    "'''"
   ]
  },
  {
   "cell_type": "code",
   "execution_count": 11,
   "metadata": {},
   "outputs": [
    {
     "data": {
      "text/plain": [
       "'\\nInner Join (내부 조인):\\nInner Join은 두 테이블 사이에서 공통된 값을 가진 레코드들만 가져오는 조인 방식입니다. 즉, 조인 조건에 해당하지 않는 레코드들은 결과에 포함되지 않습니다.\\nInner Join을 사용하면 두 테이블의 교집합을 반환합니다.\\n'"
      ]
     },
     "execution_count": 11,
     "metadata": {},
     "output_type": "execute_result"
    }
   ],
   "source": [
    "'''\n",
    "Inner Join (내부 조인):\n",
    "Inner Join은 두 테이블 사이에서 공통된 값을 가진 레코드들만 가져오는 조인 방식입니다. 즉, 조인 조건에 해당하지 않는 레코드들은 결과에 포함되지 않습니다.\n",
    "Inner Join을 사용하면 두 테이블의 교집합을 반환합니다.\n",
    "'''"
   ]
  },
  {
   "cell_type": "code",
   "execution_count": 12,
   "metadata": {},
   "outputs": [
    {
     "data": {
      "text/plain": [
       "'\\nOuter Join (외부 조인):\\nOuter Join은 Inner Join과 달리, 조인 조건에 해당하지 않는 레코드들도 결과에 포함시킵니다. \\nOuter Join은 Left Outer Join, Right Outer Join, Full Outer Join유형으로 나뉩니다.\\n'"
      ]
     },
     "execution_count": 12,
     "metadata": {},
     "output_type": "execute_result"
    }
   ],
   "source": [
    "'''\n",
    "Outer Join (외부 조인):\n",
    "Outer Join은 Inner Join과 달리, 조인 조건에 해당하지 않는 레코드들도 결과에 포함시킵니다. \n",
    "Outer Join은 Left Outer Join, Right Outer Join, Full Outer Join유형으로 나뉩니다.\n",
    "'''"
   ]
  },
  {
   "cell_type": "code",
   "execution_count": 13,
   "metadata": {},
   "outputs": [
    {
     "data": {
      "text/plain": [
       "'Inner Join과 Outer Join의 주요 차이점은 조인 조건에 맞지 않는 레코드들이 결과에 포함되는지 여부입니다.\\nInner Join은 두 테이블 간의 공통된 값을 가져오는 반면, Outer Join은 조인 조건에 맞지 않는 레코드들도 결과에 포함시킵니다.\\n따라서 어떤 Join을 사용할지는 원하는 결과에 따라 달라집니다.\\n'"
      ]
     },
     "execution_count": 13,
     "metadata": {},
     "output_type": "execute_result"
    }
   ],
   "source": [
    "'''Inner Join과 Outer Join의 주요 차이점은 조인 조건에 맞지 않는 레코드들이 결과에 포함되는지 여부입니다.\n",
    "Inner Join은 두 테이블 간의 공통된 값을 가져오는 반면, Outer Join은 조인 조건에 맞지 않는 레코드들도 결과에 포함시킵니다.\n",
    "따라서 어떤 Join을 사용할지는 원하는 결과에 따라 달라집니다.\n",
    "'''"
   ]
  },
  {
   "cell_type": "code",
   "execution_count": 14,
   "metadata": {},
   "outputs": [],
   "source": [
    "# 2. Python의 set_trace기능을 살펴보고 이에 대한 예를 들어주세요"
   ]
  },
  {
   "cell_type": "code",
   "execution_count": null,
   "metadata": {},
   "outputs": [],
   "source": [
    "'''\n",
    "set_trace() 함수는 Python에서 디버깅을 위해 사용되는 내장 함수로, \n",
    "코드 실행 중에 프로그램의 흐름을 중단하고 해당 지점에서 디버깅 세션을 시작합니다.\n",
    "이를 통해 개발자는 변수의 값을 확인하고 코드의 실행 경로를 조사하여 버그를 찾거나 코드를 분석할 수 있습니다. \n",
    "set_trace() 함수는 Python의 pdb 모듈에 정의되어 있으며,\n",
    "파이썬 스크립트 안에서 import pdb를 통해 사용할 수 있습니다.\n",
    "'''"
   ]
  },
  {
   "cell_type": "code",
   "execution_count": 16,
   "metadata": {},
   "outputs": [
    {
     "name": "stdout",
     "output_type": "stream",
     "text": [
      "--Return--\n",
      "None\n",
      "> \u001b[0;32m/var/folders/7z/gdcw9m0d0dd4vcwfzw8_c6300000gn/T/ipykernel_10026/3752608763.py\u001b[0m(9)\u001b[0;36m<module>\u001b[0;34m()\u001b[0m\n",
      "\u001b[0;32m      6 \u001b[0;31m\u001b[0;34m\u001b[0m\u001b[0m\n",
      "\u001b[0m\u001b[0;32m      7 \u001b[0;31m\u001b[0ma1\u001b[0m \u001b[0;34m=\u001b[0m \u001b[0;36m10\u001b[0m\u001b[0;34m\u001b[0m\u001b[0;34m\u001b[0m\u001b[0m\n",
      "\u001b[0m\u001b[0;32m      8 \u001b[0;31m\u001b[0mb1\u001b[0m \u001b[0;34m=\u001b[0m \u001b[0;36m20\u001b[0m\u001b[0;34m\u001b[0m\u001b[0;34m\u001b[0m\u001b[0m\n",
      "\u001b[0m\u001b[0;32m----> 9 \u001b[0;31m\u001b[0mpdb\u001b[0m\u001b[0;34m.\u001b[0m\u001b[0mset_trace\u001b[0m\u001b[0;34m(\u001b[0m\u001b[0;34m)\u001b[0m\u001b[0;34m\u001b[0m\u001b[0;34m\u001b[0m\u001b[0m\n",
      "\u001b[0m\u001b[0;32m     10 \u001b[0;31m\u001b[0mprint\u001b[0m\u001b[0;34m(\u001b[0m\u001b[0mf\u001b[0m\u001b[0;34m(\u001b[0m\u001b[0ma1\u001b[0m\u001b[0;34m,\u001b[0m\u001b[0mb1\u001b[0m\u001b[0;34m)\u001b[0m\u001b[0;34m)\u001b[0m\u001b[0;34m\u001b[0m\u001b[0;34m\u001b[0m\u001b[0m\n",
      "\u001b[0m\n"
     ]
    }
   ],
   "source": [
    "import pdb\n",
    "\n",
    "def f(a,b):\n",
    "    c = a+b\n",
    "    return c\n",
    "\n",
    "a1 = 10\n",
    "b1 = 20\n",
    "pdb.set_trace()\n",
    "print(f(a1,b1))"
   ]
  },
  {
   "cell_type": "code",
   "execution_count": 17,
   "metadata": {},
   "outputs": [],
   "source": [
    "# 3. https://github.com/lumiamitie/TIL/blob/master/python/recsys_in_python_101.md\n",
    "#    실제 분석하고 해당 코드를 수행해봅니다.\n",
    "#     => 협업필터링 vs 컨텐츠 기반 모형을 비교 설명해주세요 그리고 이를 합친 하이브리모형과 각각 성능면에서 비교해주세요"
   ]
  },
  {
   "cell_type": "code",
   "execution_count": null,
   "metadata": {},
   "outputs": [],
   "source": [
    "'''\n",
    "협업 필터링 : 다수의 사용자를 통해 얻어낸 상품 선호 정보를 바탕으로 특정한 사용자의 관심사를 예측한다.\n",
    "이는 유저 A와 B가 특정 상품에 대해 동일한 의견을 가지고 있다면, A는 주어진 상품에 대해서 임의의 다른 유저보다 B와 유사한 의견을 가질 것이라는 것을 가정한다.\n",
    "\n",
    "컨텐츠 기반 모형 : 사용자가 소비했던 상품의 정보와 속성만을 이용한다.\n",
    "과거에 소비했던 상품과 유사한 속성을 가진 상품을 추천한다.\n",
    "\n",
    "하이브리드 모형 : 협업 필터링과 컨텐츠기반 필터링을 조합하여 더 높은 성과를 얻는 경우가 많다.\n",
    "기존의 방식에서 발생할 수 있는 문제들을 해결하는 데 도움이 된다.\n",
    "새로운 사용자나 상품에 대한 추천(Cold Start문제)이나 데이터가 희소한 경우 (Sparsity 문제)를 해결하는데 유용하다.\n",
    "\n",
    "'''"
   ]
  },
  {
   "cell_type": "code",
   "execution_count": 19,
   "metadata": {},
   "outputs": [],
   "source": [
    "import numpy as np\n",
    "import scipy\n",
    "import pandas as pd\n",
    "import math\n",
    "import random\n",
    "import sklearn\n",
    "from nltk.corpus import stopwords\n",
    "from sklearn.model_selection import train_test_split\n",
    "from sklearn.feature_extraction.text import TfidfVectorizer\n",
    "from sklearn.metrics.pairwise import cosine_similarity\n",
    "from scipy.sparse.linalg import svds\n",
    "import matplotlib.pyplot as plt"
   ]
  },
  {
   "cell_type": "code",
   "execution_count": null,
   "metadata": {},
   "outputs": [],
   "source": [
    "# Deskdrop 데이터는 12달간의 실제 데이터를 담고 있다. 사용자 인터랙션 정보가 7만3천건 정도, 플랫폼 내에서 공유된 게시물 정보가 3천건 정도 존재한다."
   ]
  },
  {
   "cell_type": "code",
   "execution_count": 21,
   "metadata": {},
   "outputs": [
    {
     "data": {
      "text/html": [
       "<div>\n",
       "<style scoped>\n",
       "    .dataframe tbody tr th:only-of-type {\n",
       "        vertical-align: middle;\n",
       "    }\n",
       "\n",
       "    .dataframe tbody tr th {\n",
       "        vertical-align: top;\n",
       "    }\n",
       "\n",
       "    .dataframe thead th {\n",
       "        text-align: right;\n",
       "    }\n",
       "</style>\n",
       "<table border=\"1\" class=\"dataframe\">\n",
       "  <thead>\n",
       "    <tr style=\"text-align: right;\">\n",
       "      <th></th>\n",
       "      <th>timestamp</th>\n",
       "      <th>eventType</th>\n",
       "      <th>contentId</th>\n",
       "      <th>authorPersonId</th>\n",
       "      <th>authorSessionId</th>\n",
       "      <th>authorUserAgent</th>\n",
       "      <th>authorRegion</th>\n",
       "      <th>authorCountry</th>\n",
       "      <th>contentType</th>\n",
       "      <th>url</th>\n",
       "      <th>title</th>\n",
       "      <th>text</th>\n",
       "      <th>lang</th>\n",
       "    </tr>\n",
       "  </thead>\n",
       "  <tbody>\n",
       "    <tr>\n",
       "      <th>1</th>\n",
       "      <td>1459193988</td>\n",
       "      <td>CONTENT SHARED</td>\n",
       "      <td>-4110354420726924665</td>\n",
       "      <td>4340306774493623681</td>\n",
       "      <td>8940341205206233829</td>\n",
       "      <td>NaN</td>\n",
       "      <td>NaN</td>\n",
       "      <td>NaN</td>\n",
       "      <td>HTML</td>\n",
       "      <td>http://www.nytimes.com/2016/03/28/business/dea...</td>\n",
       "      <td>Ethereum, a Virtual Currency, Enables Transact...</td>\n",
       "      <td>All of this work is still very early. The firs...</td>\n",
       "      <td>en</td>\n",
       "    </tr>\n",
       "    <tr>\n",
       "      <th>2</th>\n",
       "      <td>1459194146</td>\n",
       "      <td>CONTENT SHARED</td>\n",
       "      <td>-7292285110016212249</td>\n",
       "      <td>4340306774493623681</td>\n",
       "      <td>8940341205206233829</td>\n",
       "      <td>NaN</td>\n",
       "      <td>NaN</td>\n",
       "      <td>NaN</td>\n",
       "      <td>HTML</td>\n",
       "      <td>http://cointelegraph.com/news/bitcoin-future-w...</td>\n",
       "      <td>Bitcoin Future: When GBPcoin of Branson Wins O...</td>\n",
       "      <td>The alarm clock wakes me at 8:00 with stream o...</td>\n",
       "      <td>en</td>\n",
       "    </tr>\n",
       "    <tr>\n",
       "      <th>3</th>\n",
       "      <td>1459194474</td>\n",
       "      <td>CONTENT SHARED</td>\n",
       "      <td>-6151852268067518688</td>\n",
       "      <td>3891637997717104548</td>\n",
       "      <td>-1457532940883382585</td>\n",
       "      <td>NaN</td>\n",
       "      <td>NaN</td>\n",
       "      <td>NaN</td>\n",
       "      <td>HTML</td>\n",
       "      <td>https://cloudplatform.googleblog.com/2016/03/G...</td>\n",
       "      <td>Google Data Center 360° Tour</td>\n",
       "      <td>We're excited to share the Google Data Center ...</td>\n",
       "      <td>en</td>\n",
       "    </tr>\n",
       "    <tr>\n",
       "      <th>4</th>\n",
       "      <td>1459194497</td>\n",
       "      <td>CONTENT SHARED</td>\n",
       "      <td>2448026894306402386</td>\n",
       "      <td>4340306774493623681</td>\n",
       "      <td>8940341205206233829</td>\n",
       "      <td>NaN</td>\n",
       "      <td>NaN</td>\n",
       "      <td>NaN</td>\n",
       "      <td>HTML</td>\n",
       "      <td>https://bitcoinmagazine.com/articles/ibm-wants...</td>\n",
       "      <td>IBM Wants to \"Evolve the Internet\" With Blockc...</td>\n",
       "      <td>The Aite Group projects the blockchain market ...</td>\n",
       "      <td>en</td>\n",
       "    </tr>\n",
       "    <tr>\n",
       "      <th>5</th>\n",
       "      <td>1459194522</td>\n",
       "      <td>CONTENT SHARED</td>\n",
       "      <td>-2826566343807132236</td>\n",
       "      <td>4340306774493623681</td>\n",
       "      <td>8940341205206233829</td>\n",
       "      <td>NaN</td>\n",
       "      <td>NaN</td>\n",
       "      <td>NaN</td>\n",
       "      <td>HTML</td>\n",
       "      <td>http://www.coindesk.com/ieee-blockchain-oxford...</td>\n",
       "      <td>IEEE to Talk Blockchain at Cloud Computing Oxf...</td>\n",
       "      <td>One of the largest and oldest organizations fo...</td>\n",
       "      <td>en</td>\n",
       "    </tr>\n",
       "  </tbody>\n",
       "</table>\n",
       "</div>"
      ],
      "text/plain": [
       "    timestamp       eventType            contentId       authorPersonId   \n",
       "1  1459193988  CONTENT SHARED -4110354420726924665  4340306774493623681  \\\n",
       "2  1459194146  CONTENT SHARED -7292285110016212249  4340306774493623681   \n",
       "3  1459194474  CONTENT SHARED -6151852268067518688  3891637997717104548   \n",
       "4  1459194497  CONTENT SHARED  2448026894306402386  4340306774493623681   \n",
       "5  1459194522  CONTENT SHARED -2826566343807132236  4340306774493623681   \n",
       "\n",
       "       authorSessionId authorUserAgent authorRegion authorCountry contentType   \n",
       "1  8940341205206233829             NaN          NaN           NaN        HTML  \\\n",
       "2  8940341205206233829             NaN          NaN           NaN        HTML   \n",
       "3 -1457532940883382585             NaN          NaN           NaN        HTML   \n",
       "4  8940341205206233829             NaN          NaN           NaN        HTML   \n",
       "5  8940341205206233829             NaN          NaN           NaN        HTML   \n",
       "\n",
       "                                                 url   \n",
       "1  http://www.nytimes.com/2016/03/28/business/dea...  \\\n",
       "2  http://cointelegraph.com/news/bitcoin-future-w...   \n",
       "3  https://cloudplatform.googleblog.com/2016/03/G...   \n",
       "4  https://bitcoinmagazine.com/articles/ibm-wants...   \n",
       "5  http://www.coindesk.com/ieee-blockchain-oxford...   \n",
       "\n",
       "                                               title   \n",
       "1  Ethereum, a Virtual Currency, Enables Transact...  \\\n",
       "2  Bitcoin Future: When GBPcoin of Branson Wins O...   \n",
       "3                       Google Data Center 360° Tour   \n",
       "4  IBM Wants to \"Evolve the Internet\" With Blockc...   \n",
       "5  IEEE to Talk Blockchain at Cloud Computing Oxf...   \n",
       "\n",
       "                                                text lang  \n",
       "1  All of this work is still very early. The firs...   en  \n",
       "2  The alarm clock wakes me at 8:00 with stream o...   en  \n",
       "3  We're excited to share the Google Data Center ...   en  \n",
       "4  The Aite Group projects the blockchain market ...   en  \n",
       "5  One of the largest and oldest organizations fo...   en  "
      ]
     },
     "execution_count": 21,
     "metadata": {},
     "output_type": "execute_result"
    }
   ],
   "source": [
    "#공유된 게시물 정보\n",
    "articles_df = (\n",
    "  pd.read_csv('4주차/archive/shared_articles.csv')\n",
    "    .loc[lambda d: d['eventType'] == 'CONTENT SHARED']  \n",
    ")\n",
    "articles_df.head(5)"
   ]
  },
  {
   "cell_type": "code",
   "execution_count": 22,
   "metadata": {},
   "outputs": [
    {
     "data": {
      "text/html": [
       "<div>\n",
       "<style scoped>\n",
       "    .dataframe tbody tr th:only-of-type {\n",
       "        vertical-align: middle;\n",
       "    }\n",
       "\n",
       "    .dataframe tbody tr th {\n",
       "        vertical-align: top;\n",
       "    }\n",
       "\n",
       "    .dataframe thead th {\n",
       "        text-align: right;\n",
       "    }\n",
       "</style>\n",
       "<table border=\"1\" class=\"dataframe\">\n",
       "  <thead>\n",
       "    <tr style=\"text-align: right;\">\n",
       "      <th></th>\n",
       "      <th>timestamp</th>\n",
       "      <th>eventType</th>\n",
       "      <th>contentId</th>\n",
       "      <th>personId</th>\n",
       "      <th>sessionId</th>\n",
       "      <th>userAgent</th>\n",
       "      <th>userRegion</th>\n",
       "      <th>userCountry</th>\n",
       "    </tr>\n",
       "  </thead>\n",
       "  <tbody>\n",
       "    <tr>\n",
       "      <th>0</th>\n",
       "      <td>1465413032</td>\n",
       "      <td>VIEW</td>\n",
       "      <td>-3499919498720038879</td>\n",
       "      <td>-8845298781299428018</td>\n",
       "      <td>1264196770339959068</td>\n",
       "      <td>NaN</td>\n",
       "      <td>NaN</td>\n",
       "      <td>NaN</td>\n",
       "    </tr>\n",
       "    <tr>\n",
       "      <th>1</th>\n",
       "      <td>1465412560</td>\n",
       "      <td>VIEW</td>\n",
       "      <td>8890720798209849691</td>\n",
       "      <td>-1032019229384696495</td>\n",
       "      <td>3621737643587579081</td>\n",
       "      <td>Mozilla/5.0 (Macintosh; Intel Mac OS X 10_11_2...</td>\n",
       "      <td>NY</td>\n",
       "      <td>US</td>\n",
       "    </tr>\n",
       "    <tr>\n",
       "      <th>2</th>\n",
       "      <td>1465416190</td>\n",
       "      <td>VIEW</td>\n",
       "      <td>310515487419366995</td>\n",
       "      <td>-1130272294246983140</td>\n",
       "      <td>2631864456530402479</td>\n",
       "      <td>NaN</td>\n",
       "      <td>NaN</td>\n",
       "      <td>NaN</td>\n",
       "    </tr>\n",
       "    <tr>\n",
       "      <th>3</th>\n",
       "      <td>1465413895</td>\n",
       "      <td>FOLLOW</td>\n",
       "      <td>310515487419366995</td>\n",
       "      <td>344280948527967603</td>\n",
       "      <td>-3167637573980064150</td>\n",
       "      <td>NaN</td>\n",
       "      <td>NaN</td>\n",
       "      <td>NaN</td>\n",
       "    </tr>\n",
       "    <tr>\n",
       "      <th>4</th>\n",
       "      <td>1465412290</td>\n",
       "      <td>VIEW</td>\n",
       "      <td>-7820640624231356730</td>\n",
       "      <td>-445337111692715325</td>\n",
       "      <td>5611481178424124714</td>\n",
       "      <td>NaN</td>\n",
       "      <td>NaN</td>\n",
       "      <td>NaN</td>\n",
       "    </tr>\n",
       "  </tbody>\n",
       "</table>\n",
       "</div>"
      ],
      "text/plain": [
       "    timestamp eventType            contentId             personId   \n",
       "0  1465413032      VIEW -3499919498720038879 -8845298781299428018  \\\n",
       "1  1465412560      VIEW  8890720798209849691 -1032019229384696495   \n",
       "2  1465416190      VIEW   310515487419366995 -1130272294246983140   \n",
       "3  1465413895    FOLLOW   310515487419366995   344280948527967603   \n",
       "4  1465412290      VIEW -7820640624231356730  -445337111692715325   \n",
       "\n",
       "             sessionId                                          userAgent   \n",
       "0  1264196770339959068                                                NaN  \\\n",
       "1  3621737643587579081  Mozilla/5.0 (Macintosh; Intel Mac OS X 10_11_2...   \n",
       "2  2631864456530402479                                                NaN   \n",
       "3 -3167637573980064150                                                NaN   \n",
       "4  5611481178424124714                                                NaN   \n",
       "\n",
       "  userRegion userCountry  \n",
       "0        NaN         NaN  \n",
       "1         NY          US  \n",
       "2        NaN         NaN  \n",
       "3        NaN         NaN  \n",
       "4        NaN         NaN  "
      ]
     },
     "execution_count": 22,
     "metadata": {},
     "output_type": "execute_result"
    }
   ],
   "source": [
    "# 사용자 인터랙션 정보\n",
    "interaction_df = pd.read_csv('4주차/archive/users_interactions.csv')\n",
    "interaction_df.head(5)\n",
    "\n",
    "'''공유된 게시물 정보와 사용자 인터렉션 정보는 contentID 값을  통해 조인될 수 있다.'''"
   ]
  },
  {
   "cell_type": "code",
   "execution_count": 23,
   "metadata": {},
   "outputs": [],
   "source": [
    "#데이터 전처리\n",
    "#인터렉션의 종류는 여러 가지가 있기 때문에, 각 액션에 대한 가중치 또는 강도를 가정해볼 수 있다.\n",
    "#예를 들면, 아티클에 댓글을 하나 달았을 경우 단순히 좋아요를 누르거나 게시물을 보기만 한 것보다 더 관심이 있다고 생각할 수 있다.\n",
    "event_type_strength = {\n",
    "   'VIEW': 1.0,\n",
    "   'LIKE': 2.0, \n",
    "   'BOOKMARK': 2.5, \n",
    "   'FOLLOW': 3.0,\n",
    "   'COMMENT CREATED': 4.0,  \n",
    "}\n",
    "\n",
    "interaction_df['eventStrength'] = (\n",
    "  interaction_df\n",
    "    .loc[:, 'eventType']\n",
    "    .apply(lambda d: event_type_strength[d])\n",
    ")"
   ]
  },
  {
   "cell_type": "code",
   "execution_count": 25,
   "metadata": {},
   "outputs": [
    {
     "data": {
      "text/plain": [
       "69868"
      ]
     },
     "execution_count": 25,
     "metadata": {},
     "output_type": "execute_result"
    }
   ],
   "source": [
    "#추천 시스템에서는 사용자에 대한 정보가 부족할때 추천을 제공하기가 어려워지는 Cold Start 문제가 존재한다. 이러한 이유로 5개 이상의 인터렉션이 존재하는 사용제애 대한\n",
    "#데이터만 활용하도록 한다.\n",
    "interaction_df_over5 = (interaction_df\n",
    "  .groupby('personId', group_keys=False)\n",
    "  .apply(lambda df: df.assign(interactCnt = lambda d: d['contentId'].nunique()))\n",
    "  .loc[lambda d: d['interactCnt'] >= 5]\n",
    ")\n",
    "\n",
    "# 인터렉션수 5 이상인 사용자의 데이터는 69868건\n",
    "interaction_df_over5.shape[0]"
   ]
  },
  {
   "cell_type": "code",
   "execution_count": 26,
   "metadata": {},
   "outputs": [
    {
     "data": {
      "text/html": [
       "<div>\n",
       "<style scoped>\n",
       "    .dataframe tbody tr th:only-of-type {\n",
       "        vertical-align: middle;\n",
       "    }\n",
       "\n",
       "    .dataframe tbody tr th {\n",
       "        vertical-align: top;\n",
       "    }\n",
       "\n",
       "    .dataframe thead th {\n",
       "        text-align: right;\n",
       "    }\n",
       "</style>\n",
       "<table border=\"1\" class=\"dataframe\">\n",
       "  <thead>\n",
       "    <tr style=\"text-align: right;\">\n",
       "      <th></th>\n",
       "      <th>personId</th>\n",
       "      <th>contentId</th>\n",
       "      <th>eventStrength</th>\n",
       "      <th>eventScore</th>\n",
       "    </tr>\n",
       "  </thead>\n",
       "  <tbody>\n",
       "    <tr>\n",
       "      <th>0</th>\n",
       "      <td>-9223121837663643404</td>\n",
       "      <td>-8949113594875411859</td>\n",
       "      <td>1.0</td>\n",
       "      <td>1.000000</td>\n",
       "    </tr>\n",
       "    <tr>\n",
       "      <th>1</th>\n",
       "      <td>-9223121837663643404</td>\n",
       "      <td>-8377626164558006982</td>\n",
       "      <td>1.0</td>\n",
       "      <td>1.000000</td>\n",
       "    </tr>\n",
       "    <tr>\n",
       "      <th>2</th>\n",
       "      <td>-9223121837663643404</td>\n",
       "      <td>-8208801367848627943</td>\n",
       "      <td>1.0</td>\n",
       "      <td>1.000000</td>\n",
       "    </tr>\n",
       "    <tr>\n",
       "      <th>3</th>\n",
       "      <td>-9223121837663643404</td>\n",
       "      <td>-8187220755213888616</td>\n",
       "      <td>1.0</td>\n",
       "      <td>1.000000</td>\n",
       "    </tr>\n",
       "    <tr>\n",
       "      <th>4</th>\n",
       "      <td>-9223121837663643404</td>\n",
       "      <td>-7423191370472335463</td>\n",
       "      <td>8.0</td>\n",
       "      <td>3.169925</td>\n",
       "    </tr>\n",
       "    <tr>\n",
       "      <th>5</th>\n",
       "      <td>-9223121837663643404</td>\n",
       "      <td>-7331393944609614247</td>\n",
       "      <td>1.0</td>\n",
       "      <td>1.000000</td>\n",
       "    </tr>\n",
       "    <tr>\n",
       "      <th>6</th>\n",
       "      <td>-9223121837663643404</td>\n",
       "      <td>-6872546942144599345</td>\n",
       "      <td>1.0</td>\n",
       "      <td>1.000000</td>\n",
       "    </tr>\n",
       "    <tr>\n",
       "      <th>7</th>\n",
       "      <td>-9223121837663643404</td>\n",
       "      <td>-6728844082024523434</td>\n",
       "      <td>1.0</td>\n",
       "      <td>1.000000</td>\n",
       "    </tr>\n",
       "    <tr>\n",
       "      <th>8</th>\n",
       "      <td>-9223121837663643404</td>\n",
       "      <td>-6590819806697898649</td>\n",
       "      <td>1.0</td>\n",
       "      <td>1.000000</td>\n",
       "    </tr>\n",
       "    <tr>\n",
       "      <th>9</th>\n",
       "      <td>-9223121837663643404</td>\n",
       "      <td>-6558712014192834002</td>\n",
       "      <td>2.0</td>\n",
       "      <td>1.584963</td>\n",
       "    </tr>\n",
       "  </tbody>\n",
       "</table>\n",
       "</div>"
      ],
      "text/plain": [
       "              personId            contentId  eventStrength  eventScore\n",
       "0 -9223121837663643404 -8949113594875411859            1.0    1.000000\n",
       "1 -9223121837663643404 -8377626164558006982            1.0    1.000000\n",
       "2 -9223121837663643404 -8208801367848627943            1.0    1.000000\n",
       "3 -9223121837663643404 -8187220755213888616            1.0    1.000000\n",
       "4 -9223121837663643404 -7423191370472335463            8.0    3.169925\n",
       "5 -9223121837663643404 -7331393944609614247            1.0    1.000000\n",
       "6 -9223121837663643404 -6872546942144599345            1.0    1.000000\n",
       "7 -9223121837663643404 -6728844082024523434            1.0    1.000000\n",
       "8 -9223121837663643404 -6590819806697898649            1.0    1.000000\n",
       "9 -9223121837663643404 -6558712014192834002            2.0    1.584963"
      ]
     },
     "execution_count": 26,
     "metadata": {},
     "output_type": "execute_result"
    }
   ],
   "source": [
    "# Deskdrop에서는 사용자들이 특정한 아티클을 여러번 볼 수 있고, 좋아요나 댓글 등 다양한 상호작용을 할 수 있다. \n",
    "# 따라서 특정한 아티클에 대한 사용자의 선호도를 알기 위해, 모든 상호작용에 대한 점수를 합산하고 로그변환을 통해 분포를 평활하게 만든다.\n",
    "interaction_full_df = (\n",
    "  interaction_df_over5\n",
    "    .groupby(['personId', 'contentId'], as_index=False)['eventStrength']\n",
    "    .sum()\n",
    "    .assign(eventScore = lambda d: np.log2(1+d['eventStrength']))\n",
    ")\n",
    "\n",
    "interaction_full_df.head(10)"
   ]
  },
  {
   "cell_type": "code",
   "execution_count": null,
   "metadata": {},
   "outputs": [],
   "source": [
    "'''머신러닝 프로젝트에서는 평가를 잘 하는 것이 중요하다. 서로 다른 알고리즘을 비교하거나 모형을 위한 하이퍼파라미터를 선택할 수 있게 해주기 때문이다.\n",
    "평가하는 과정에서 중요한 점은, 학습하지 않은 데이터에도 잘 동작할 수 있도록 모형이 일반화되었는지 확인하는 것이다. \n",
    "이를 위해 Cross Validation이라는 기법을 사용한다. 여기서는 holdout이라는 간단한 방법을 써보자. 학습과정에서 임의로 추출한 데이터(20%라고 해보자)를 테스트용으로 \n",
    "따로 빼두고, 평가를 위해서만 사용한다. 아래 평가과정에서 측정하는 지표들은 모두 이 test set 데이터를 통해 측정한 것들이다.\n",
    "\n",
    "참고로 특정한 날짜를 기준으로 학습셋과 테스트셋 데이터를 나누기도 한다. 특정 일자보다 이전의 데이터는 모두 학습에 사용하고, 이후의 데이터는 모두 평가하는데 쓴다.\n",
    "미래의 사용자 행동을 예측한다면 이러한 방식을 사용해서 평가할 수도 있다.'''"
   ]
  }
 ],
 "metadata": {
  "kernelspec": {
   "display_name": "Python 3 (ipykernel)",
   "language": "python",
   "name": "python3"
  },
  "language_info": {
   "codemirror_mode": {
    "name": "ipython",
    "version": 3
   },
   "file_extension": ".py",
   "mimetype": "text/x-python",
   "name": "python",
   "nbconvert_exporter": "python",
   "pygments_lexer": "ipython3",
   "version": "3.11.3"
  }
 },
 "nbformat": 4,
 "nbformat_minor": 2
}
